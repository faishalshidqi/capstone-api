{
 "cells": [
  {
   "cell_type": "markdown",
   "metadata": {},
   "source": [
    "# CNN 1D"
   ]
  },
  {
   "cell_type": "code",
   "execution_count": null,
   "metadata": {},
   "outputs": [],
   "source": [
    "model = tf.keras.models.Sequential([\n",
    "    tf.keras.layers.Conv1D(filters=32, kernel_size=5, strides=1, padding=\"causal\", activation=\"relu\", input_shape=x_train.shape[1:3]),\n",
    "    tf.keras.layers.Conv1D(filters=32, kernel_size=5, strides=1, padding=\"causal\", activation=\"relu\"),\n",
    "    tf.keras.layers.MaxPooling1D(pool_size=2),\n",
    "    tf.keras.layers.Conv1D(filters=64, kernel_size=5, strides=1, padding=\"causal\", activation=\"relu\"),\n",
    "    tf.keras.layers.Conv1D(filters=64, kernel_size=5, strides=1, padding=\"causal\", activation=\"relu\"),\n",
    "    tf.keras.layers.MaxPooling1D(pool_size=2),\n",
    "    tf.keras.layers.Dropout(rate=0.25),\n",
    "    tf.keras.layers.Conv1D(filters=128, kernel_size=5, strides=1, padding=\"causal\", activation=\"relu\"),\n",
    "    tf.keras.layers.Conv1D(filters=128, kernel_size=5, strides=1, padding=\"causal\", activation=\"relu\"),\n",
    "    tf.keras.layers.MaxPooling1D(pool_size=2),\n",
    "    tf.keras.layers.Dropout(rate=0.25),\n",
    "    tf.keras.layers.Conv1D(filters=256, kernel_size=5, strides=1, padding=\"causal\", activation=\"relu\"),\n",
    "    tf.keras.layers.Conv1D(filters=256, kernel_size=5, strides=1, padding=\"causal\", activation=\"relu\"),\n",
    "    tf.keras.layers.MaxPooling1D(pool_size=2),\n",
    "    tf.keras.layers.Dropout(rate=0.5),\n",
    "    tf.keras.layers.Flatten(),\n",
    "    tf.keras.layers.Dense(512, activation='relu'), \n",
    "    tf.keras.layers.Dropout(rate=0.25),\n",
    "    tf.keras.layers.Dense(num_classes, activation='softmax')])\n",
    "\n",
    "model.compile(loss = 'categorical_crossentropy', optimizer='RMSprop', metrics=['accuracy'])\n",
    "model.summary()"
   ]
  },
  {
   "cell_type": "code",
   "execution_count": null,
   "metadata": {},
   "outputs": [],
   "source": [
    "model.fit(x_train, y_train, epochs=10, batch_size=32, validation_data=(x_test, y_test))"
   ]
  },
  {
   "cell_type": "markdown",
   "metadata": {},
   "source": [
    "### Simpan model dalam bentuk .h5"
   ]
  },
  {
   "cell_type": "code",
   "execution_count": null,
   "metadata": {},
   "outputs": [],
   "source": [
    "save_model = \"model_SIBI.h5\"\n",
    "model.save(save_model)\n",
    "print(\"Model Saved into\", save_model)"
   ]
  },
  {
   "cell_type": "markdown",
   "metadata": {},
   "source": [
    "# Pengujian Dataset"
   ]
  },
  {
   "cell_type": "code",
   "execution_count": null,
   "metadata": {},
   "outputs": [],
   "source": [
    "path_to_image = \"/content/drive/MyDrive/Data Bisindo/SIBI_datasets_LEMLITBANG_SIBI_R_90.10_V02/SIBI_datasets_LEMLITBANG_SIBI_R_90.10_V02/test/rrr.jpeg\"\n",
    "#path_to_image = \"/content/drive/MyDrive/Data Bisindo/archive (3)/BISINDO/O/O (1).jpg\"\n",
    "(pergelangan_X, pergelangan_Y, pergelangan_Z,\n",
    " ibujari_CmcX, ibujari_CmcY, ibujari_CmcZ,\n",
    " ibujari_McpX, ibujari_McpY, ibujari_McpZ,\n",
    " ibujari_IpX, ibujari_IpY, ibujari_IpZ,\n",
    " ibujari_TipX, ibujari_TipY, ibujari_TipZ,\n",
    " telunjuk_McpX, telunjuk_McpY, telunjuk_McpZ,\n",
    " telunjuk_PipX, telunjuk_PipY, telunjuk_PipZ,\n",
    " telunjuk_DipX, telunjuk_DipY, telunjuk_DipZ,\n",
    " telunjuk_TipX, telunjuk_TipY, telunjuk_TipZ,\n",
    " tengah_McpX, tengah_McpY, tengah_McpZ,\n",
    " tengah_PipX, tengah_PipY, tengah_PipZ,\n",
    " tengah_DipX, tengah_DipY, tengah_DipZ,\n",
    " tengah_TipX, tengah_TipY, tengah_TipZ,\n",
    " manis_McpX, manis_McpY, manis_McpZ,\n",
    " manis_PipX, manis_PipY, manis_PipZ,\n",
    " manis_DipX, manis_DipY, manis_DipZ,\n",
    " manis_TipX, manis_TipY, manis_TipZ,\n",
    " kelingking_McpX, kelingking_McpY, kelingking_McpZ,\n",
    " kelingking_PipX, kelingking_PipY, kelingking_PipZ,\n",
    " kelingking_DipX, kelingking_DipY, kelingking_DipZ,\n",
    " kelingking_TipX, kelingking_TipY, kelingking_TipZ,\n",
    " output_IMG) = extract_feature(path_to_image)\n",
    "\n",
    "\n",
    "plt.axis(\"on\")\n",
    "plt.imshow(cv.cvtColor(output_IMG, cv.COLOR_BGR2RGB))\n",
    "plt.show()"
   ]
  },
  {
   "cell_type": "code",
   "execution_count": null,
   "metadata": {},
   "outputs": [],
   "source": [
    "input_IMG = np.array([[[pergelangan_X], [pergelangan_Y], [pergelangan_Z],\n",
    "                     [ibujari_CmcX], [ibujari_CmcY], [ibujari_CmcZ],\n",
    "                     [ibujari_McpX], [ibujari_McpY], [ibujari_McpZ],\n",
    "                     [ibujari_IpX], [ibujari_IpY], [ibujari_IpZ],\n",
    "                     [ibujari_TipX], [ibujari_TipY], [ibujari_TipZ],\n",
    "                     [telunjuk_McpX], [telunjuk_McpY], [telunjuk_McpZ],\n",
    "                     [telunjuk_PipX], [telunjuk_PipY], [telunjuk_PipZ],\n",
    "                     [telunjuk_DipX], [telunjuk_DipY], [telunjuk_DipZ],\n",
    "                      [telunjuk_TipX], [telunjuk_TipY], [telunjuk_TipZ],\n",
    "                     [tengah_McpX], [tengah_McpY], [tengah_McpZ],\n",
    "                     [tengah_PipX], [tengah_PipY], [tengah_PipZ],\n",
    "                     [tengah_DipX], [tengah_DipY], [tengah_DipZ],\n",
    "                     [tengah_TipX], [tengah_TipY], [tengah_TipZ],\n",
    "                     [manis_McpX], [manis_McpY], [manis_McpZ],\n",
    "                     [manis_PipX], [manis_PipY], [manis_PipZ],\n",
    "                     [manis_DipX], [manis_DipY], [manis_DipZ],\n",
    "                     [manis_TipX], [manis_TipY], [manis_TipZ],\n",
    "                     [kelingking_McpX], [kelingking_McpY], [kelingking_McpZ],\n",
    "                     [kelingking_PipX], [kelingking_PipY], [kelingking_PipZ],\n",
    "                     [kelingking_DipX], [kelingking_DipY], [kelingking_DipZ],\n",
    "                     [kelingking_TipX], [kelingking_TipY], [kelingking_TipZ]]])\n",
    "\n",
    "print(input_IMG.shape)\n",
    "print(input_IMG)"
   ]
  },
  {
   "cell_type": "code",
   "execution_count": null,
   "metadata": {},
   "outputs": [],
   "source": [
    "pred = model.predict(input_IMG)"
   ]
  },
  {
   "cell_type": "code",
   "execution_count": null,
   "metadata": {},
   "outputs": [],
   "source": [
    "pred"
   ]
  },
  {
   "cell_type": "code",
   "execution_count": null,
   "metadata": {},
   "outputs": [],
   "source": [
    "label_names = ['A', 'B', 'C', 'D', 'E', 'F', 'G', 'H', 'I', 'J', 'K', 'L', 'M', 'N', 'O', 'P', 'Q', 'R', 'S', 'T', 'U', 'V', 'W', 'X', 'Y', 'Z']\n",
    "predicted_labels = np.argmax(pred, axis=-1)\n",
    "\n",
    "predicted_categorical = tf.one_hot(predicted_labels, depth=26)\n",
    "\n",
    "predicted_probs = tf.nn.softmax(predicted_categorical)\n",
    "\n",
    "predicted_labels_str = [label_names[i] for i in predicted_labels]\n",
    "\n",
    "print(predicted_labels_str)"
   ]
  }
 ],
 "metadata": {
  "kernelspec": {
   "display_name": "Python 3.10.0 64-bit",
   "language": "python",
   "name": "python3"
  },
  "language_info": {
   "name": "python",
   "version": "3.10.0"
  },
  "orig_nbformat": 4,
  "vscode": {
   "interpreter": {
    "hash": "27f6fea6f47ae512550f0b8facdbd035a93e1dd89633f7bf2dd00a2502c71d0d"
   }
  }
 },
 "nbformat": 4,
 "nbformat_minor": 2
}
